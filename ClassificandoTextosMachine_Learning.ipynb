{
  "nbformat": 4,
  "nbformat_minor": 0,
  "metadata": {
    "colab": {
      "name": "ClassificandoTextosMachine Learning.ipynb",
      "version": "0.3.2",
      "provenance": [],
      "collapsed_sections": [],
      "include_colab_link": true
    },
    "kernelspec": {
      "name": "python3",
      "display_name": "Python 3"
    }
  },
  "cells": [
    {
      "cell_type": "markdown",
      "metadata": {
        "id": "view-in-github",
        "colab_type": "text"
      },
      "source": [
        "<a href=\"https://colab.research.google.com/github/suzanasvm/MachineLearningProjects/blob/master/ClassificandoTextosMachine_Learning.ipynb\" target=\"_parent\"><img src=\"https://colab.research.google.com/assets/colab-badge.svg\" alt=\"Open In Colab\"/></a>"
      ]
    },
    {
      "cell_type": "code",
      "metadata": {
        "id": "ir3RMr7g8oHU",
        "colab_type": "code",
        "outputId": "2b01fc61-78eb-4191-a378-4cf5f3da455f",
        "colab": {
          "base_uri": "https://localhost:8080/",
          "height": 136
        }
      },
      "source": [
        "#Lendo o CSV e imprimindo na tela\n",
        "import\tpandas\tas\tpd\n",
        "from\tcollections\timport\tCounter\n",
        "import\tnumpy\tas\tnp\n",
        "from\tsklearn.model_selection\timport\tcross_val_score\n",
        "\n",
        "classificacoes\t=\tpd.read_csv('conteudo.csv')\n",
        "#print(classificacoes)\n",
        "\n",
        "#Colocando os textos em uma variavel\n",
        "textos\t=\tclassificacoes['texto']\n",
        "#print(textos)\n",
        "\n",
        "\n",
        "#Transformando palavras em strings\n",
        "#cada\t linha\t se\t refere\t a\t um\t array\t com\t cada\t uma\t das palavras\t separadas\n",
        "palavrasIsoladas\t=\ttextos.str.lower().str.split()\n",
        "#print(palavrasIsoladas)\n",
        "\n",
        "\n",
        "#Criando um unico array com todas as palavras unicas (dicionario)\n",
        "dicionario\t=\tset()\n",
        "\n",
        "for\tlista\tin\tpalavrasIsoladas:\n",
        "\t\tdicionario.update(lista)\n",
        "\n",
        "#print(dicionario)\n",
        "\n",
        "\n",
        "#imprime o total de palavras diferentes\n",
        "totalDePalavras\t=\tlen(dicionario)\n",
        "#print(totalDePalavras)\n",
        "\n",
        "\n",
        "#Associa cada palavra a uma posicao e armazena em um dicionario mapeado\n",
        "palavraEposicao= dict(zip(dicionario, range(totalDePalavras)))\n",
        "#print(palavraEposicao)\n",
        "\n",
        "\n",
        "#Funcao que conta a presenca de cada palavra única presente no dicionario mapeado, no texto inteiro\n",
        "def\tvetorizarPresencaPalavras(texto,\tpalavraEposicao):\n",
        "\t\t\t\tvetor\t=\t[0]\t*\tlen(palavraEposicao)\n",
        "\t\t\t\tfor\tpalavra\tin\ttexto:\n",
        "\t\t\t\t\t\t\t\tif\tpalavra\tin\tpalavraEposicao:\n",
        "\t\t\t\t\t\t\t\t\t\t\t\tposicao\t=\tpalavraEposicao[palavra]\n",
        "\t\t\t\t\t\t\t\t\t\t\t\tvetor[posicao]\t+=\t1\n",
        "\t\t\t\treturn\tvetor\n",
        "\n",
        "vetoresDeTexto\t=\t[vetorizarPresencaPalavras(texto,\tpalavraEposicao)\tfor\ttexto\tin\tpalavrasIsoladas]\n",
        "#print(vetoresDeTexto)\n",
        "\n",
        "\n",
        "#Associa o texto ao autor\n",
        "autor = classificacoes['classificacao']\n",
        "\n",
        "#Armazena o texto e os autores\n",
        "x = np.array(vetoresDeTexto)\n",
        "y = np.array(autor)\n",
        "\n",
        "#Define porcentagem de Treino\n",
        "porcentagem_de_treino = 0.8\n",
        "\n",
        "#Define o Tamanho dos dados de treino, a partir da porcentagem de treino\n",
        "tamanho_de_treino\t=\tint(porcentagem_de_treino\t*\tlen(y))\n",
        "tamanho_de_validacao\t=\tlen(y)\t-\ttamanho_de_treino\n",
        "\n",
        "#Pega os dados de treino\n",
        "treino_dados\t=\tx[0:tamanho_de_treino]\n",
        "treino_marcacoes\t=\ty[0:tamanho_de_treino]\n",
        "\n",
        "#Pega os dados de validacao\n",
        "validacao_dados\t=\tx[tamanho_de_treino:]\n",
        "validacao_marcacoes\t=\ty[tamanho_de_treino:]\n",
        "\n",
        "\n",
        "#Funcao que Treina os dados\n",
        "def\tpredict(nome,\tmodelo,\ttreino_dados,\ttreino_marcacoes):\n",
        "\t\t\t\tk\t=\t10\n",
        "\t\t\t\tscores\t=\tcross_val_score(modelo,\ttreino_dados,\ttreino_marcacoes,\tcv\t=\tk)\n",
        "\t\t\t\ttaxa_de_acerto\t=\tnp.mean(scores)\n",
        "\t\t\t\tmsg\t=\t\"Taxa\tde\tacerto\tdo\t{0}:\t{1}\".format(nome,\ttaxa_de_acerto)\n",
        "\t\t\t\tprint(msg)\n",
        "\t\t\t\treturn\ttaxa_de_acerto\n",
        "\n",
        "print(\"\\nAnálise Beatles x Rolling Stones\\n\")      \n",
        "      \n",
        "#Utilizando o classificador OneVsRest\n",
        "from\tsklearn.multiclass\timport\tOneVsRestClassifier\n",
        "from\tsklearn.svm\timport\tLinearSVC\n",
        "resultados\t=\t{}\n",
        "modeloOneVsRest\t=\tOneVsRestClassifier(LinearSVC(random_state\t=\t0))\n",
        "resultadoOneVsRest\t=\tpredict(\"OneVsRest\",\tmodeloOneVsRest,\ttreino_dados,\ttreino_marcacoes)\n",
        "resultados[resultadoOneVsRest]\t=\tmodeloOneVsRest\n",
        "\n",
        "#Utiliznado o classificador OneVsOne\n",
        "from\tsklearn.multiclass\timport\tOneVsOneClassifier\n",
        "modeloOneVsOne\t=\tOneVsOneClassifier(LinearSVC(random_state\t=\t0))\n",
        "resultadoOneVsOne\t=\tpredict(\"OneVsOne\",\tmodeloOneVsOne,\ttreino_dados,\ttreino_marcacoes)\n",
        "resultados[resultadoOneVsOne]\t=\tmodeloOneVsOne\n",
        "\n",
        "#Utilizando o classificador MultinomialNb\n",
        "from\tsklearn.naive_bayes\timport\tMultinomialNB\n",
        "modeloMultinomial\t=\tMultinomialNB()\n",
        "resultadoMultinomial\t=\tpredict(\"MultinomialNB\",\tmodeloMultinomial,\ttreino_dados,\ttreino_marcacoes)\n",
        "resultados[resultadoMultinomial]\t=\tmodeloMultinomial\n",
        "\n",
        "#Utilizando o classificador Adaboost\n",
        "from\tsklearn.ensemble\timport\tAdaBoostClassifier\n",
        "modeloAdaBoost\t=\tAdaBoostClassifier()\n",
        "resultadoAdaBoost\t=\tpredict(\"AdaBoostClassifier\",\tmodeloAdaBoost,\ttreino_dados,\ttreino_marcacoes)\n",
        "resultados[resultadoAdaBoost]\t=\tmodeloAdaBoost\n",
        "\n",
        "\n"
      ],
      "execution_count": 16,
      "outputs": [
        {
          "output_type": "stream",
          "text": [
            "\n",
            "Análise Beatles x Rolling Stones\n",
            "\n",
            "Taxa\tde\tacerto\tdo\tOneVsRest:\t0.8609523809523809\n",
            "Taxa\tde\tacerto\tdo\tOneVsOne:\t0.8609523809523809\n",
            "Taxa\tde\tacerto\tdo\tMultinomialNB:\t0.8471428571428572\n",
            "Taxa\tde\tacerto\tdo\tAdaBoostClassifier:\t0.8957142857142857\n"
          ],
          "name": "stdout"
        }
      ]
    },
    {
      "cell_type": "code",
      "metadata": {
        "id": "i4H9WXh_9NyH",
        "colab_type": "code",
        "colab": {}
      },
      "source": [
        ""
      ],
      "execution_count": 0,
      "outputs": []
    },
    {
      "cell_type": "markdown",
      "metadata": {
        "id": "oPLRiR1R88ZQ",
        "colab_type": "text"
      },
      "source": [
        "# New Section"
      ]
    }
  ]
}